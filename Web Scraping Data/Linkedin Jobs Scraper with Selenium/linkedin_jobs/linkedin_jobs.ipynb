{
 "cells": [
  {
   "cell_type": "code",
   "execution_count": 1,
   "metadata": {},
   "outputs": [],
   "source": [
    "#Import Packages\n",
    "import time\n",
    "import pandas as pd\n",
    "import os"
   ]
  },
  {
   "cell_type": "code",
   "execution_count": 2,
   "metadata": {},
   "outputs": [],
   "source": [
    "from selenium import webdriver\n",
    "from selenium.webdriver.chrome.service import Service as ChromeService\n",
    "from webdriver_manager.chrome import ChromeDriverManager\n",
    "from selenium.webdriver.common.by import By"
   ]
  },
  {
   "cell_type": "code",
   "execution_count": 3,
   "metadata": {},
   "outputs": [],
   "source": [
    "#Use this Url and change city or role accordingly\n",
    "\n",
    "url1='https://www.linkedin.com/jobs/search?keywords=Marketing%20Data%20Analyst&location=Berlin%2C%20Berlin%2C%20Germany&geoId=106967730&trk=public_jobs_jobs-search-bar_search-submit&position=1&pageNum=0'"
   ]
  },
  {
   "cell_type": "code",
   "execution_count": 4,
   "metadata": {},
   "outputs": [],
   "source": [
    "\n",
    "driver = webdriver.Chrome(service=ChromeService(ChromeDriverManager().install()))\n",
    "\n",
    "\n",
    "driver.implicitly_wait(10)\n",
    "driver.get(url1)"
   ]
  },
  {
   "cell_type": "code",
   "execution_count": 5,
   "metadata": {},
   "outputs": [
    {
     "name": "stdout",
     "output_type": "stream",
     "text": [
      "121\n"
     ]
    }
   ],
   "source": [
    "#Find number of job listings\n",
    "\n",
    "job_count_elements = driver.find_elements(By.CLASS_NAME, 'results-context-header__job-count')\n",
    "\n",
    "if job_count_elements:\n",
    "    y = job_count_elements[0].text\n",
    "    print(y)\n",
    "else:\n",
    "    print(\"Job count element not found.\")\n"
   ]
  },
  {
   "cell_type": "code",
   "execution_count": 6,
   "metadata": {},
   "outputs": [
    {
     "data": {
      "text/plain": [
       "str"
      ]
     },
     "execution_count": 6,
     "metadata": {},
     "output_type": "execute_result"
    }
   ],
   "source": [
    "type(y)"
   ]
  },
  {
   "cell_type": "code",
   "execution_count": 7,
   "metadata": {},
   "outputs": [],
   "source": [
    "n = pd.to_numeric(y)"
   ]
  },
  {
   "cell_type": "code",
   "execution_count": 8,
   "metadata": {},
   "outputs": [
    {
     "data": {
      "text/plain": [
       "121"
      ]
     },
     "execution_count": 8,
     "metadata": {},
     "output_type": "execute_result"
    }
   ],
   "source": [
    "n"
   ]
  },
  {
   "cell_type": "code",
   "execution_count": 9,
   "metadata": {},
   "outputs": [],
   "source": [
    "#Loop to scroll through all jobs and click on see more jobs button for infinite scrolling\n",
    "\n",
    "i = 2\n",
    "while i <= int((n+200)/25)+1: \n",
    "    driver.execute_script(\"window.scrollTo(0, document.body.scrollHeight);\")\n",
    "    i = i + 1\n",
    "    \n",
    "    try:\n",
    "        send=driver.find_element_by_xpath(\"//button[@aria-label='Load more results']\")\n",
    "        driver.execute_script(\"arguments[0].click();\", send)   \n",
    "        time.sleep(3)\n",
    "                \n",
    "    except:\n",
    "        pass\n",
    "        time.sleep(5)"
   ]
  },
  {
   "cell_type": "code",
   "execution_count": 10,
   "metadata": {},
   "outputs": [],
   "source": [
    "#Create empty lists for company name and job title\n",
    "\n",
    "companyname= []\n",
    "titlename= []"
   ]
  },
  {
   "cell_type": "code",
   "execution_count": 11,
   "metadata": {},
   "outputs": [],
   "source": [
    "# #Find company name and append it to the blank list\n",
    "\n",
    "from selenium.webdriver.common.by import By\n",
    "\n",
    "try:\n",
    "    # Find company names using XPath\n",
    "    company_elements = driver.find_elements(By.XPATH, \"//h3[@class='base-search-card__title']\")\n",
    "    \n",
    "    # Iterate over the elements and append to the list\n",
    "    for company_element in company_elements:\n",
    "        company = company_element.text\n",
    "        companyname.append(company)\n",
    "\n",
    "except Exception as e:\n",
    "    print(f\"An error occurred in the try block: {e}\")\n"
   ]
  },
  {
   "cell_type": "code",
   "execution_count": 12,
   "metadata": {},
   "outputs": [
    {
     "data": {
      "text/plain": [
       "50"
      ]
     },
     "execution_count": 12,
     "metadata": {},
     "output_type": "execute_result"
    }
   ],
   "source": [
    "len(companyname)\n"
   ]
  },
  {
   "cell_type": "code",
   "execution_count": 13,
   "metadata": {},
   "outputs": [],
   "source": [
    "# #Find title name and append it to the blank list\n",
    "\n",
    "from selenium.webdriver.common.by import By\n",
    "\n",
    "try:\n",
    "    # Find title names using XPath\n",
    "    title_elements = driver.find_elements(By.XPATH, \"//h3[@class='base-search-card__title']\")\n",
    "    \n",
    "    # Iterate over the elements and append to the list\n",
    "    for title_element in title_elements:\n",
    "        title = title_element.text\n",
    "        titlename.append(title)\n",
    "\n",
    "except Exception as e:\n",
    "    print(f\"An error occurred in the try block: {e}\")\n"
   ]
  },
  {
   "cell_type": "code",
   "execution_count": 14,
   "metadata": {},
   "outputs": [
    {
     "data": {
      "text/plain": [
       "50"
      ]
     },
     "execution_count": 14,
     "metadata": {},
     "output_type": "execute_result"
    }
   ],
   "source": [
    "len(titlename)"
   ]
  },
  {
   "cell_type": "code",
   "execution_count": 15,
   "metadata": {},
   "outputs": [],
   "source": [
    "#Create dataframe for company name and title\n",
    "\n",
    "companyfinal = pd.DataFrame(companyname,columns=[\"company\"])\n",
    "titlefinal = pd.DataFrame(titlename,columns=[\"title\"])"
   ]
  },
  {
   "cell_type": "code",
   "execution_count": 16,
   "metadata": {},
   "outputs": [],
   "source": [
    "#Join the two lists\n",
    "\n",
    "x = companyfinal.join(titlefinal)"
   ]
  },
  {
   "cell_type": "code",
   "execution_count": 17,
   "metadata": {},
   "outputs": [
    {
     "data": {
      "text/html": [
       "<div>\n",
       "<style scoped>\n",
       "    .dataframe tbody tr th:only-of-type {\n",
       "        vertical-align: middle;\n",
       "    }\n",
       "\n",
       "    .dataframe tbody tr th {\n",
       "        vertical-align: top;\n",
       "    }\n",
       "\n",
       "    .dataframe thead th {\n",
       "        text-align: right;\n",
       "    }\n",
       "</style>\n",
       "<table border=\"1\" class=\"dataframe\">\n",
       "  <thead>\n",
       "    <tr style=\"text-align: right;\">\n",
       "      <th></th>\n",
       "      <th>company</th>\n",
       "      <th>title</th>\n",
       "    </tr>\n",
       "  </thead>\n",
       "  <tbody>\n",
       "    <tr>\n",
       "      <th>0</th>\n",
       "      <td>Data Analyst - Digital Marketing (all genders)</td>\n",
       "      <td>Data Analyst - Digital Marketing (all genders)</td>\n",
       "    </tr>\n",
       "    <tr>\n",
       "      <th>1</th>\n",
       "      <td>Business Data Analyst - Sales &amp; Customer Tempo...</td>\n",
       "      <td>Business Data Analyst - Sales &amp; Customer Tempo...</td>\n",
       "    </tr>\n",
       "    <tr>\n",
       "      <th>2</th>\n",
       "      <td>Junior Digital Analyst (m/w/d)</td>\n",
       "      <td>Junior Digital Analyst (m/w/d)</td>\n",
       "    </tr>\n",
       "    <tr>\n",
       "      <th>3</th>\n",
       "      <td>Business Data Analyst - Sales &amp; Customer Tempo...</td>\n",
       "      <td>Business Data Analyst - Sales &amp; Customer Tempo...</td>\n",
       "    </tr>\n",
       "    <tr>\n",
       "      <th>4</th>\n",
       "      <td>SEM Analyst Europe (M/F/D)</td>\n",
       "      <td>SEM Analyst Europe (M/F/D)</td>\n",
       "    </tr>\n",
       "    <tr>\n",
       "      <th>5</th>\n",
       "      <td>Digital Analyst (m/w/d)</td>\n",
       "      <td>Digital Analyst (m/w/d)</td>\n",
       "    </tr>\n",
       "    <tr>\n",
       "      <th>6</th>\n",
       "      <td>Senior Data Analyst (Get a 30% salary increase...</td>\n",
       "      <td>Senior Data Analyst (Get a 30% salary increase...</td>\n",
       "    </tr>\n",
       "    <tr>\n",
       "      <th>7</th>\n",
       "      <td>Werkstudent/ Praktikant - Business Intelligenc...</td>\n",
       "      <td>Werkstudent/ Praktikant - Business Intelligenc...</td>\n",
       "    </tr>\n",
       "    <tr>\n",
       "      <th>8</th>\n",
       "      <td>Business Analyst Data &amp; AI Life Sciences (w/m/d)</td>\n",
       "      <td>Business Analyst Data &amp; AI Life Sciences (w/m/d)</td>\n",
       "    </tr>\n",
       "    <tr>\n",
       "      <th>9</th>\n",
       "      <td>Social Media Analyst (w/m/d)</td>\n",
       "      <td>Social Media Analyst (w/m/d)</td>\n",
       "    </tr>\n",
       "    <tr>\n",
       "      <th>10</th>\n",
       "      <td>Senior Audience Data Analyst - D2C (all genders)</td>\n",
       "      <td>Senior Audience Data Analyst - D2C (all genders)</td>\n",
       "    </tr>\n",
       "    <tr>\n",
       "      <th>11</th>\n",
       "      <td>Senior Audience Data Analyst - D2C (all gender...</td>\n",
       "      <td>Senior Audience Data Analyst - D2C (all gender...</td>\n",
       "    </tr>\n",
       "    <tr>\n",
       "      <th>12</th>\n",
       "      <td>(Junior) Marketing-Analyst (m/w/d) – Hybrid</td>\n",
       "      <td>(Junior) Marketing-Analyst (m/w/d) – Hybrid</td>\n",
       "    </tr>\n",
       "    <tr>\n",
       "      <th>13</th>\n",
       "      <td>Businessanalyst*in (m/w/div)</td>\n",
       "      <td>Businessanalyst*in (m/w/div)</td>\n",
       "    </tr>\n",
       "    <tr>\n",
       "      <th>14</th>\n",
       "      <td>Business Analyst/Controller:in (all genders)</td>\n",
       "      <td>Business Analyst/Controller:in (all genders)</td>\n",
       "    </tr>\n",
       "    <tr>\n",
       "      <th>15</th>\n",
       "      <td>Business Analyst in Sales Analytics (d/w/m)</td>\n",
       "      <td>Business Analyst in Sales Analytics (d/w/m)</td>\n",
       "    </tr>\n",
       "    <tr>\n",
       "      <th>16</th>\n",
       "      <td>Marketing Analyst (f/m/d)</td>\n",
       "      <td>Marketing Analyst (f/m/d)</td>\n",
       "    </tr>\n",
       "    <tr>\n",
       "      <th>17</th>\n",
       "      <td>Senior Marketing Analyst (all genders)</td>\n",
       "      <td>Senior Marketing Analyst (all genders)</td>\n",
       "    </tr>\n",
       "    <tr>\n",
       "      <th>18</th>\n",
       "      <td>(Senior) Marketing Analyst (d/f/m)</td>\n",
       "      <td>(Senior) Marketing Analyst (d/f/m)</td>\n",
       "    </tr>\n",
       "    <tr>\n",
       "      <th>19</th>\n",
       "      <td>(Senior) CRM Data Analyst - D2C (all genders) ...</td>\n",
       "      <td>(Senior) CRM Data Analyst - D2C (all genders) ...</td>\n",
       "    </tr>\n",
       "    <tr>\n",
       "      <th>20</th>\n",
       "      <td>Referent Web Analyst (m/w/d) mit Fokus Marketi...</td>\n",
       "      <td>Referent Web Analyst (m/w/d) mit Fokus Marketi...</td>\n",
       "    </tr>\n",
       "    <tr>\n",
       "      <th>21</th>\n",
       "      <td>(Senior) Marketing Analyst (d/f/m)</td>\n",
       "      <td>(Senior) Marketing Analyst (d/f/m)</td>\n",
       "    </tr>\n",
       "    <tr>\n",
       "      <th>22</th>\n",
       "      <td>Business Analyst - Credit</td>\n",
       "      <td>Business Analyst - Credit</td>\n",
       "    </tr>\n",
       "    <tr>\n",
       "      <th>23</th>\n",
       "      <td>Controller:in / Business Analyst (m/w/d)</td>\n",
       "      <td>Controller:in / Business Analyst (m/w/d)</td>\n",
       "    </tr>\n",
       "    <tr>\n",
       "      <th>24</th>\n",
       "      <td>Senior Manager Marketing Analytics (m/f/d)</td>\n",
       "      <td>Senior Manager Marketing Analytics (m/f/d)</td>\n",
       "    </tr>\n",
       "    <tr>\n",
       "      <th>25</th>\n",
       "      <td>Business Analyst (m/w/d)-43_CL_27_2</td>\n",
       "      <td>Business Analyst (m/w/d)-43_CL_27_2</td>\n",
       "    </tr>\n",
       "    <tr>\n",
       "      <th>26</th>\n",
       "      <td>Business Analyst (Expansion) (m/f/d)</td>\n",
       "      <td>Business Analyst (Expansion) (m/f/d)</td>\n",
       "    </tr>\n",
       "    <tr>\n",
       "      <th>27</th>\n",
       "      <td>Business Analyst</td>\n",
       "      <td>Business Analyst</td>\n",
       "    </tr>\n",
       "    <tr>\n",
       "      <th>28</th>\n",
       "      <td>Business Analyst (w/m/d)</td>\n",
       "      <td>Business Analyst (w/m/d)</td>\n",
       "    </tr>\n",
       "    <tr>\n",
       "      <th>29</th>\n",
       "      <td>Business Analyst Anwendungsmanagement</td>\n",
       "      <td>Business Analyst Anwendungsmanagement</td>\n",
       "    </tr>\n",
       "    <tr>\n",
       "      <th>30</th>\n",
       "      <td>Duales Studium BWL/Versicherung B.A.</td>\n",
       "      <td>Duales Studium BWL/Versicherung B.A.</td>\n",
       "    </tr>\n",
       "    <tr>\n",
       "      <th>31</th>\n",
       "      <td>Business Analyst</td>\n",
       "      <td>Business Analyst</td>\n",
       "    </tr>\n",
       "    <tr>\n",
       "      <th>32</th>\n",
       "      <td>Business Analyst (all genders) Digitalisierung</td>\n",
       "      <td>Business Analyst (all genders) Digitalisierung</td>\n",
       "    </tr>\n",
       "    <tr>\n",
       "      <th>33</th>\n",
       "      <td>D365 F&amp;O Business Analyst (SCM)</td>\n",
       "      <td>D365 F&amp;O Business Analyst (SCM)</td>\n",
       "    </tr>\n",
       "    <tr>\n",
       "      <th>34</th>\n",
       "      <td>Business Analyst (w/m/d)</td>\n",
       "      <td>Business Analyst (w/m/d)</td>\n",
       "    </tr>\n",
       "    <tr>\n",
       "      <th>35</th>\n",
       "      <td>Business Analysts P&amp;C (f/m/x)</td>\n",
       "      <td>Business Analysts P&amp;C (f/m/x)</td>\n",
       "    </tr>\n",
       "    <tr>\n",
       "      <th>36</th>\n",
       "      <td>Business Analyst (M/W/D)</td>\n",
       "      <td>Business Analyst (M/W/D)</td>\n",
       "    </tr>\n",
       "    <tr>\n",
       "      <th>37</th>\n",
       "      <td>Avaloq Business Analyst (Avaloq certified</td>\n",
       "      <td>Avaloq Business Analyst (Avaloq certified</td>\n",
       "    </tr>\n",
       "    <tr>\n",
       "      <th>38</th>\n",
       "      <td>Business Analyst (M/W/D)</td>\n",
       "      <td>Business Analyst (M/W/D)</td>\n",
       "    </tr>\n",
       "    <tr>\n",
       "      <th>39</th>\n",
       "      <td>Business Analyst (M/W/D)</td>\n",
       "      <td>Business Analyst (M/W/D)</td>\n",
       "    </tr>\n",
       "    <tr>\n",
       "      <th>40</th>\n",
       "      <td>Business Analyst &amp; Application Architect (m/w/d)</td>\n",
       "      <td>Business Analyst &amp; Application Architect (m/w/d)</td>\n",
       "    </tr>\n",
       "    <tr>\n",
       "      <th>41</th>\n",
       "      <td>Business Analyst (M/W/D)</td>\n",
       "      <td>Business Analyst (M/W/D)</td>\n",
       "    </tr>\n",
       "    <tr>\n",
       "      <th>42</th>\n",
       "      <td>Performance Marketing Manager SEA (m/w/d)</td>\n",
       "      <td>Performance Marketing Manager SEA (m/w/d)</td>\n",
       "    </tr>\n",
       "    <tr>\n",
       "      <th>43</th>\n",
       "      <td>Business Analyst Value Added Services (m/w/d)</td>\n",
       "      <td>Business Analyst Value Added Services (m/w/d)</td>\n",
       "    </tr>\n",
       "    <tr>\n",
       "      <th>44</th>\n",
       "      <td>Berater Technology Business Analysis - Technol...</td>\n",
       "      <td>Berater Technology Business Analysis - Technol...</td>\n",
       "    </tr>\n",
       "    <tr>\n",
       "      <th>45</th>\n",
       "      <td>B.A. Soziale Arbeit - Betreuung Wohnen Psychos...</td>\n",
       "      <td>B.A. Soziale Arbeit - Betreuung Wohnen Psychos...</td>\n",
       "    </tr>\n",
       "    <tr>\n",
       "      <th>46</th>\n",
       "      <td>Duales Studium B.A. International Service Mana...</td>\n",
       "      <td>Duales Studium B.A. International Service Mana...</td>\n",
       "    </tr>\n",
       "    <tr>\n",
       "      <th>47</th>\n",
       "      <td>(Senior) Tech Marketing Manager (all genders)</td>\n",
       "      <td>(Senior) Tech Marketing Manager (all genders)</td>\n",
       "    </tr>\n",
       "    <tr>\n",
       "      <th>48</th>\n",
       "      <td>Business Analyst Insurance (m/w/d)</td>\n",
       "      <td>Business Analyst Insurance (m/w/d)</td>\n",
       "    </tr>\n",
       "    <tr>\n",
       "      <th>49</th>\n",
       "      <td>(Senior) Tech Marketing Manager (all genders)</td>\n",
       "      <td>(Senior) Tech Marketing Manager (all genders)</td>\n",
       "    </tr>\n",
       "  </tbody>\n",
       "</table>\n",
       "</div>"
      ],
      "text/plain": [
       "                                              company  \\\n",
       "0      Data Analyst - Digital Marketing (all genders)   \n",
       "1   Business Data Analyst - Sales & Customer Tempo...   \n",
       "2                      Junior Digital Analyst (m/w/d)   \n",
       "3   Business Data Analyst - Sales & Customer Tempo...   \n",
       "4                          SEM Analyst Europe (M/F/D)   \n",
       "5                             Digital Analyst (m/w/d)   \n",
       "6   Senior Data Analyst (Get a 30% salary increase...   \n",
       "7   Werkstudent/ Praktikant - Business Intelligenc...   \n",
       "8    Business Analyst Data & AI Life Sciences (w/m/d)   \n",
       "9                        Social Media Analyst (w/m/d)   \n",
       "10   Senior Audience Data Analyst - D2C (all genders)   \n",
       "11  Senior Audience Data Analyst - D2C (all gender...   \n",
       "12        (Junior) Marketing-Analyst (m/w/d) – Hybrid   \n",
       "13                       Businessanalyst*in (m/w/div)   \n",
       "14       Business Analyst/Controller:in (all genders)   \n",
       "15        Business Analyst in Sales Analytics (d/w/m)   \n",
       "16                          Marketing Analyst (f/m/d)   \n",
       "17             Senior Marketing Analyst (all genders)   \n",
       "18                 (Senior) Marketing Analyst (d/f/m)   \n",
       "19  (Senior) CRM Data Analyst - D2C (all genders) ...   \n",
       "20  Referent Web Analyst (m/w/d) mit Fokus Marketi...   \n",
       "21                 (Senior) Marketing Analyst (d/f/m)   \n",
       "22                          Business Analyst - Credit   \n",
       "23           Controller:in / Business Analyst (m/w/d)   \n",
       "24         Senior Manager Marketing Analytics (m/f/d)   \n",
       "25                Business Analyst (m/w/d)-43_CL_27_2   \n",
       "26               Business Analyst (Expansion) (m/f/d)   \n",
       "27                                   Business Analyst   \n",
       "28                           Business Analyst (w/m/d)   \n",
       "29              Business Analyst Anwendungsmanagement   \n",
       "30               Duales Studium BWL/Versicherung B.A.   \n",
       "31                                   Business Analyst   \n",
       "32     Business Analyst (all genders) Digitalisierung   \n",
       "33                    D365 F&O Business Analyst (SCM)   \n",
       "34                           Business Analyst (w/m/d)   \n",
       "35                      Business Analysts P&C (f/m/x)   \n",
       "36                           Business Analyst (M/W/D)   \n",
       "37          Avaloq Business Analyst (Avaloq certified   \n",
       "38                           Business Analyst (M/W/D)   \n",
       "39                           Business Analyst (M/W/D)   \n",
       "40   Business Analyst & Application Architect (m/w/d)   \n",
       "41                           Business Analyst (M/W/D)   \n",
       "42          Performance Marketing Manager SEA (m/w/d)   \n",
       "43      Business Analyst Value Added Services (m/w/d)   \n",
       "44  Berater Technology Business Analysis - Technol...   \n",
       "45  B.A. Soziale Arbeit - Betreuung Wohnen Psychos...   \n",
       "46  Duales Studium B.A. International Service Mana...   \n",
       "47      (Senior) Tech Marketing Manager (all genders)   \n",
       "48                 Business Analyst Insurance (m/w/d)   \n",
       "49      (Senior) Tech Marketing Manager (all genders)   \n",
       "\n",
       "                                                title  \n",
       "0      Data Analyst - Digital Marketing (all genders)  \n",
       "1   Business Data Analyst - Sales & Customer Tempo...  \n",
       "2                      Junior Digital Analyst (m/w/d)  \n",
       "3   Business Data Analyst - Sales & Customer Tempo...  \n",
       "4                          SEM Analyst Europe (M/F/D)  \n",
       "5                             Digital Analyst (m/w/d)  \n",
       "6   Senior Data Analyst (Get a 30% salary increase...  \n",
       "7   Werkstudent/ Praktikant - Business Intelligenc...  \n",
       "8    Business Analyst Data & AI Life Sciences (w/m/d)  \n",
       "9                        Social Media Analyst (w/m/d)  \n",
       "10   Senior Audience Data Analyst - D2C (all genders)  \n",
       "11  Senior Audience Data Analyst - D2C (all gender...  \n",
       "12        (Junior) Marketing-Analyst (m/w/d) – Hybrid  \n",
       "13                       Businessanalyst*in (m/w/div)  \n",
       "14       Business Analyst/Controller:in (all genders)  \n",
       "15        Business Analyst in Sales Analytics (d/w/m)  \n",
       "16                          Marketing Analyst (f/m/d)  \n",
       "17             Senior Marketing Analyst (all genders)  \n",
       "18                 (Senior) Marketing Analyst (d/f/m)  \n",
       "19  (Senior) CRM Data Analyst - D2C (all genders) ...  \n",
       "20  Referent Web Analyst (m/w/d) mit Fokus Marketi...  \n",
       "21                 (Senior) Marketing Analyst (d/f/m)  \n",
       "22                          Business Analyst - Credit  \n",
       "23           Controller:in / Business Analyst (m/w/d)  \n",
       "24         Senior Manager Marketing Analytics (m/f/d)  \n",
       "25                Business Analyst (m/w/d)-43_CL_27_2  \n",
       "26               Business Analyst (Expansion) (m/f/d)  \n",
       "27                                   Business Analyst  \n",
       "28                           Business Analyst (w/m/d)  \n",
       "29              Business Analyst Anwendungsmanagement  \n",
       "30               Duales Studium BWL/Versicherung B.A.  \n",
       "31                                   Business Analyst  \n",
       "32     Business Analyst (all genders) Digitalisierung  \n",
       "33                    D365 F&O Business Analyst (SCM)  \n",
       "34                           Business Analyst (w/m/d)  \n",
       "35                      Business Analysts P&C (f/m/x)  \n",
       "36                           Business Analyst (M/W/D)  \n",
       "37          Avaloq Business Analyst (Avaloq certified  \n",
       "38                           Business Analyst (M/W/D)  \n",
       "39                           Business Analyst (M/W/D)  \n",
       "40   Business Analyst & Application Architect (m/w/d)  \n",
       "41                           Business Analyst (M/W/D)  \n",
       "42          Performance Marketing Manager SEA (m/w/d)  \n",
       "43      Business Analyst Value Added Services (m/w/d)  \n",
       "44  Berater Technology Business Analysis - Technol...  \n",
       "45  B.A. Soziale Arbeit - Betreuung Wohnen Psychos...  \n",
       "46  Duales Studium B.A. International Service Mana...  \n",
       "47      (Senior) Tech Marketing Manager (all genders)  \n",
       "48                 Business Analyst Insurance (m/w/d)  \n",
       "49      (Senior) Tech Marketing Manager (all genders)  "
      ]
     },
     "execution_count": 17,
     "metadata": {},
     "output_type": "execute_result"
    }
   ],
   "source": [
    "x"
   ]
  },
  {
   "cell_type": "code",
   "execution_count": 18,
   "metadata": {},
   "outputs": [],
   "source": [
    "#Save file in your directory\n",
    "\n",
    "x.to_csv('linkedin.csv')"
   ]
  },
  {
   "cell_type": "code",
   "execution_count": 19,
   "metadata": {},
   "outputs": [],
   "source": [
    "#Find job links and append it to a list\n",
    "\n",
    "job_list = driver.find_elements(By.XPATH, \"//a[@class='base-card__full-link']\")\n",
    "    \n",
    "# Extract href attributes and append to the list\n",
    "hrefList = []\n",
    "\n",
    "for e in job_list:\n",
    "        hrefList.append(e.get_attribute('href'))"
   ]
  },
  {
   "cell_type": "code",
   "execution_count": 20,
   "metadata": {},
   "outputs": [
    {
     "data": {
      "text/plain": [
       "[]"
      ]
     },
     "execution_count": 20,
     "metadata": {},
     "output_type": "execute_result"
    }
   ],
   "source": [
    "hrefList"
   ]
  },
  {
   "cell_type": "code",
   "execution_count": 21,
   "metadata": {},
   "outputs": [],
   "source": [
    "linklist = pd.DataFrame(hrefList,columns=[\"joblinks\"])"
   ]
  },
  {
   "cell_type": "code",
   "execution_count": 22,
   "metadata": {},
   "outputs": [],
   "source": [
    "linklist.to_csv('linkedinlinks.csv')"
   ]
  },
  {
   "cell_type": "code",
   "execution_count": 23,
   "metadata": {},
   "outputs": [],
   "source": [
    "#Close the driver\n",
    "\n",
    "driver.close()"
   ]
  },
  {
   "cell_type": "code",
   "execution_count": null,
   "metadata": {},
   "outputs": [],
   "source": []
  }
 ],
 "metadata": {
  "kernelspec": {
   "display_name": "myenv",
   "language": "python",
   "name": "python3"
  },
  "language_info": {
   "codemirror_mode": {
    "name": "ipython",
    "version": 3
   },
   "file_extension": ".py",
   "mimetype": "text/x-python",
   "name": "python",
   "nbconvert_exporter": "python",
   "pygments_lexer": "ipython3",
   "version": "3.10.12"
  }
 },
 "nbformat": 4,
 "nbformat_minor": 2
}
